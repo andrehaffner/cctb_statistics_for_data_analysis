{
 "cells": [
  {
   "cell_type": "markdown",
   "source": [
    "How to complete midterm 2?\n",
    "\n",
    "> Follow the instruction of this notebook. At certain point, you will be asked to perform certain tasks and answer questions based on the results you obtained. \n",
    "\n",
    "> Go to Midterm 2 on canvas and complete the corresponding questions.\n",
    "\n",
    "**For numerical value questions. Use 0.01 precisions. This is very important. For example, if the result is 9.827, then the answer you should put on canvas is 9.83**"
   ],
   "metadata": {
    "id": "B7UVxazoQAt6"
   }
  },
  {
   "cell_type": "markdown",
   "source": [
    "## Question 1 to 5 are based on two sample t-test"
   ],
   "metadata": {
    "id": "g7h_blscQnot"
   }
  },
  {
   "cell_type": "code",
   "source": [
    "import numpy as np\n",
    "from scipy import stats\n",
    "\n",
    "# Define the two samples\n",
    "sample1 = np.array([2, 3, 5, 4, 6, 2, 4])\n",
    "sample2 = np.array([1, 4, 3, 5, 2, 6, 4])\n",
    "\n",
    "# Calculate the t-statistic and p-value using the two-sample t-test\n",
    "# your code goes here"
   ],
   "metadata": {
    "id": "2vSCVJIbQm5d"
   },
   "execution_count": 1,
   "outputs": []
  },
  {
   "cell_type": "code",
   "source": [
    "# Q1\n",
    "# What is the difference between the means of sample1 and sample2?\n",
    "\n",
    "diff_mean = np.mean(sample1) - np.mean(sample2)\n",
    "\n",
    "print(f\"A1: {diff_mean}\")\n",
    "\n"
   ],
   "metadata": {
    "id": "NXM6JgytTbiL"
   },
   "execution_count": 2,
   "outputs": []
  },
  {
   "cell_type": "code",
   "source": [
    "# Q2\n",
    "# Is there a significant difference between the means of sample1 and sample2 \n",
    "# at the 5% level of significance?\n",
    "\n",
    "t, p = stats.ttest_ind(sample1, sample2, equal_var=True)\n",
    "\n",
    "if p < 0.05:\n",
    "    print(\"A2: There is a significant difference between the means of sample1 and sample2.\")\n",
    "else:\n",
    "    print(\"A2: There is not a significant difference between the means of sample1 and sample2.\")\n",
    "\n"
   ],
   "metadata": {
    "id": "WudQPEfvT8CI"
   },
   "execution_count": 3,
   "outputs": []
  },
  {
   "cell_type": "code",
   "source": [
    "# Q3\n",
    "# Are the variances of sample1 and sample2 equal?\n",
    "# hint: Google the Levene's test.\n",
    "\n",
    "var1 = np.var(sample1)\n",
    "var2 = np.var(sample2)\n",
    "\n",
    "if var1 == var2:\n",
    "    print(\"A3: The variances are equal.\")\n",
    "else:\n",
    "    print(\"A3: The variances are not equal.\")\n",
    "\n"
   ],
   "metadata": {
    "id": "NbdMlKjOUgm_"
   },
   "execution_count": 4,
   "outputs": []
  },
  {
   "cell_type": "code",
   "source": [
    "# Q4\n",
    "# What's the p-value?\n",
    "\n",
    "t, p = stats.ttest_ind(sample1, sample2)\n",
    "print(f\"A4: p-value is {p}.\")\n",
    "\n"
   ],
   "metadata": {
    "id": "hmt_KPleVErF"
   },
   "execution_count": 5,
   "outputs": []
  },
  {
   "cell_type": "code",
   "source": [
    "# Q5\n",
    "# Suppose each sample replicate itself once, \n",
    "# e.g. sample1 becomese 2 times longer with each element repeated.\n",
    "# Is the new p-value larger or smaller?\n",
    "# hint: you can calculate it if you are not confident in pure reasoning.\n",
    "\n",
    "new_sample = np.repeat(sample1, 2)\n",
    "new_t, new_p = stats.ttest_ind(sample1, sample2)\n",
    "\n",
    "if new_p > p:\n",
    "    print(\"A5: the new p value is larger.\")\n",
    "else:\n",
    "    print(\"A5: the new p value is smaller.\")\n",
    "\n"
   ],
   "metadata": {
    "id": "B3YS7P4_Vyg1"
   },
   "execution_count": 6,
   "outputs": []
  },
  {
   "cell_type": "markdown",
   "source": [
    "## Question 6 to 10 are centered around a one-way ANOVA test"
   ],
   "metadata": {
    "id": "1Hkmzs-swwPt"
   }
  },
  {
   "cell_type": "code",
   "source": [
    "import numpy as np\n",
    "from scipy import stats\n",
    "\n",
    "# Define the three samples\n",
    "sample1 = np.array([2, 3, 5, 4, 6, 2, 4])\n",
    "sample2 = np.array([1, 4, 3, 5, 2, 6, 4])\n",
    "sample3 = np.array([4, 3, 2, 1, 6, 5, 4])\n",
    "\n",
    "# Combine the samples into one array\n",
    "\n",
    "# Calculate the F-statistic and p-value using one-way ANOVA\n",
    "# Your code goes here"
   ],
   "metadata": {
    "id": "oHm11mJ9x4TS"
   },
   "execution_count": 11,
   "outputs": []
  },
  {
   "cell_type": "code",
   "source": [
    "# Q6\n",
    "# What is the mean of sample1?\n",
    "\n",
    "mean1 = np.mean(sample1)\n",
    "\n",
    "print(f\"A6: The mean of sample1 is {mean1}.\")\n",
    "\n"
   ],
   "metadata": {
    "id": "4XEhxRwKw2Gl"
   },
   "execution_count": 34,
   "outputs": []
  },
  {
   "cell_type": "code",
   "source": [
    "# Q7\n",
    "# What's the inner product of sample1 and sample2\n",
    "\n",
    "inner1x2 = np.inner(sample1, sample2)\n",
    "\n",
    "print(f\"A7: The inner product of sample1 and sample2 is {inner1x2}.\")\n",
    "\n"
   ],
   "metadata": {
    "id": "P0FHdcTjzHHP"
   },
   "execution_count": 35,
   "outputs": []
  },
  {
   "cell_type": "code",
   "source": [
    "# Q8\n",
    "# What's the p-value for the on-way ANOVA test?\n",
    "\n",
    "samples = [sample1, sample2, sample3]\n",
    "f_statistic, p_val = stats.f_oneway(*samples)\n",
    "\n",
    "print(f\"A8: p-value: {p_val}.\")\n",
    "\n"
   ],
   "metadata": {
    "id": "XO0mAkkBzV7s"
   },
   "execution_count": 36,
   "outputs": []
  },
  {
   "cell_type": "code",
   "source": [
    "# Q9\n",
    "# What's the SSB?\n",
    "\n",
    "fStatistic, pValue = stats.f_oneway(*samples)\n",
    "ssb = fStatistic * sum([len(sample) for sample in samples]) / len(samples) - 1\n",
    "\n",
    "print(f\"A9: SSB = {ssb}.\")\n",
    "\n"
   ],
   "metadata": {
    "id": "EphtOqLozhJX"
   },
   "execution_count": 38,
   "outputs": []
  },
  {
   "cell_type": "code",
   "source": [
    "# Q10\n",
    "# What's the SST?\n",
    "\n",
    "concat_samples = np.concatenate([sample1, sample2, sample3])\n",
    "overall_mean = np.mean(concat_samples)\n",
    "sst = np.sum((data - overall_mean)**2)\n",
    "\n",
    "print(f\"A10: SST = {sst}.\")\n",
    "\n"
   ],
   "metadata": {
    "id": "uu2jxmNVz4rC"
   },
   "execution_count": 37,
   "outputs": []
  },
  {
   "cell_type": "markdown",
   "source": [
    "## Question 11 to 20 are general Python programming about numpy and scipy.stats"
   ],
   "metadata": {
    "id": "0lGnB2Yr5rsM"
   }
  },
  {
   "cell_type": "code",
   "source": [
    "# Q11\n",
    "# Given a NumPy array x = [2, 4, 6, 8, 10, 12, 14, 16], \n",
    "# what is the 90th percentile of x using the percentile() function?\n",
    "\n",
    "x = np.array([2, 4, 6, 8, 10, 12, 14, 16])\n",
    "per = np.percentile(x, 90)\n",
    "\n",
    "print(f\"A11: 90th percentile of x is {per}.\")\n",
    "\n"
   ],
   "metadata": {
    "colab": {
     "base_uri": "https://localhost:8080/"
    },
    "id": "uBEucCR9NbC3",
    "outputId": "b9207a42-6ea4-488f-c5d1-c8fedee62d92",
    "pycharm": {
     "is_executing": true
    }
   },
   "execution_count": null,
   "outputs": []
  },
  {
   "cell_type": "code",
   "source": [
    "# Q12\n",
    "# Given a NumPy array y = [1, 2, 3, 4, 5], \n",
    "# what is the skewness of y\n",
    "\n",
    "y = np.array([1, 2, 3, 4, 5])\n",
    "s = stats.skew(y)\n",
    "\n",
    "print(f\"A12: Skewness of y is {s}.\")\n"
   ],
   "metadata": {
    "id": "QQDA_ny1NwuX"
   },
   "execution_count": 58,
   "outputs": []
  },
  {
   "cell_type": "code",
   "source": [
    "# Q13\n",
    "# Given a NumPy array z = [10, 20, 30, 40, 50], \n",
    "# what is the kurtosis of z\n",
    "\n",
    "z = np.array([10, 20, 30, 40, 50])\n",
    "k = stats.kurtosis(z)\n",
    "\n",
    "print(f\"A13: The kurtosis of z is {k}.\")\n",
    "\n"
   ],
   "metadata": {
    "id": "VzlKbCnJOJrr"
   },
   "execution_count": null,
   "outputs": []
  },
  {
   "cell_type": "code",
   "source": [
    "# Q14\n",
    "# Write a function that calculates the correlation coefficient of two arrays,\n",
    "# without using NumPy library.\n",
    "\n",
    "def correlation_coefficient(x1, x2):\n",
    "    m1 = sum(x1) / len(x1)\n",
    "    m2 = sum(x2) / len(x2)\n",
    "    n = sum((x1[i] - m1) * (x2[i] - m2) for i in range(len(x1)))\n",
    "    d = (sum((x1[i]-m1)**2 for i in range(len(x1))) * sum((x2[i]-m2)**2 for i in range(len(x2))))**0.5\n",
    "    if d == 0:\n",
    "        return 0\n",
    "    else:\n",
    "        return n/d\n",
    "\n",
    "\n",
    "print(f\"A14: \\ndef correlation_coefficient(x1, x2):\\n\\tm1 = sum(x1) / len(x1)\\n\\tm2 = sum(x2) / len(x2)\\n\\t\"\n",
    "      f\"numerator = sum((x1[i] - m1) * (x2[i] - m2) for i in range(len(x1)))\\n\\t\"\n",
    "      f\"denominator = (sum((x1[i]-m1)**2 for i in range(len(x1))) * sum((x2[i]-m2)**2 for i in range(len(x2))))**0.5\"\n",
    "      f\"\\n\\tif denominator == 0:\\n\\t\\treturn 0\\n\\telse:\\n\\t\\treturn numerator/denominator\")\n",
    "\n"
   ],
   "metadata": {
    "id": "KF0PalHTObAn"
   },
   "execution_count": null,
   "outputs": []
  },
  {
   "cell_type": "code",
   "source": [
    "# Q15\n",
    "# Given two NumPy arrays b = [1, 2, 3, 4, 5] and c = [2, 4, 6, 8, 10], \n",
    "# what is the p-value for the null hypothesis that \n",
    "# the correlation coefficient between b and c is zero\n",
    "\n",
    "b = np.array([1, 2, 3, 4, 5])\n",
    "c = np.array([2, 4, 6, 8, 10])\n",
    "corr_coef, p_value = stats.pearsonr(b, c)\n",
    "\n",
    "print(f\"A15: p-value: {p_value}.\")\n",
    "\n"
   ],
   "metadata": {
    "id": "lnd2FCuMO56o"
   },
   "execution_count": null,
   "outputs": []
  },
  {
   "cell_type": "code",
   "source": [
    "# Q16\n",
    "# Generate 1000 random numbers from a chi-squared distribution with 5 degrees of freedom.\n",
    "# The sum is close to which of the following values?\n",
    "\n",
    "numbers = np.random.chisquare(df=5, size=1000)\n",
    "s = np.sum(numbers)\n",
    "\n",
    "print(f\"A16: The sum of the numbers is {s}.\")\n",
    "\n"
   ],
   "metadata": {
    "id": "tqxRybHbPT7B"
   },
   "execution_count": null,
   "outputs": []
  },
  {
   "cell_type": "code",
   "source": [
    "# Q17\n",
    "# Write a Python function that determine whether a year is a leap year.\n",
    "# Is the Year 2200 a leap year?\n",
    "\n",
    "def is_leap_year(year):\n",
    "    if year % 4 == 0:\n",
    "        if year % 100 == 0:\n",
    "            if year % 400 == 0:\n",
    "                return True\n",
    "            else:\n",
    "                return False\n",
    "        else:\n",
    "            return True\n",
    "    else:\n",
    "        return False\n",
    "\n",
    "\n",
    "print(f\"A17: Is the Year 2200 a leap year? {is_leap_year(2200)}.\")\n",
    "\n"
   ],
   "metadata": {
    "id": "3wLj5oxPQk45"
   },
   "execution_count": null,
   "outputs": []
  },
  {
   "cell_type": "code",
   "source": [
    "# Q18\n",
    "# Write a Python function to inverse the key-value relationship.\n",
    "# i.e. the keys become the values and the values become the corresponding keys.\n",
    "\n",
    "def inverse_key_value(dictionary): return {value: key for key, value in dictionary.items()}\n",
    "\n",
    "\n",
    "print(\"A18:\\ndef inverse_key_value(dictionary): return {value: key for key, value in dictionary.items()}\")\n",
    "\n"
   ],
   "metadata": {
    "id": "X-IBxg0iQ3Jy"
   },
   "execution_count": null,
   "outputs": []
  },
  {
   "cell_type": "code",
   "source": [
    "# Q19\n",
    "# Given a list of strings my_list = [\"apple\", \"banana\", \"cherry\", \"apple\", \"banana\", \"apple\"], \n",
    "# write a Python program that counts the number of occurrences of each string in the list \n",
    "# and stores the results in a dictionary.\n",
    "\n",
    "def list_ocurrrence(my_list): return {item: my_list.count(item) for item in my_list}\n",
    "\n",
    "\n",
    "print(\"A19: \\ndef list_ocurrrence(my_list): return {item: my_list.count(item) for item in my_list}\")\n",
    "\n"
   ],
   "metadata": {
    "id": "NdTi5U0uRfNi"
   },
   "execution_count": null,
   "outputs": []
  },
  {
   "cell_type": "code",
   "source": [
    "# Q20\n",
    "# This question is 3 points\n",
    "# Write a Python program that flattens a list of lists with infinite depth. \n",
    "# For example, given the list my_list = [1, 2, [3, 4, [5, 6, [7, 8]]], 9, [10]], \n",
    "# the program should output the flattened list [1, 2, 3, 4, 5, 6, 7, 8, 9, 10].\n",
    "\n",
    "def flat_list(my_list):\n",
    "    new_list = []\n",
    "    for element in my_list:\n",
    "        if type(element) == list:\n",
    "            new_list += flat_list(element)\n",
    "        else:\n",
    "            new_list.append(element)\n",
    "    return new_list\n",
    "\n",
    "\n",
    "print(\"A20:\\ndef flat_list(my_list):\\n\\tnew_list = []\\n\\tfor item in my_list:\\n\\t\\tif type(item) == list:\"\n",
    "      \"\\n\\t\\t\\tnew_list += flat_list(item)\\n\\t\\telse:\\n\\t\\t\\tnew_list.append(item)\\n\\treturn new_list\")\n",
    "\n"
   ],
   "metadata": {
    "id": "rkteqjcwSpKr"
   },
   "execution_count": null,
   "outputs": []
  },
  {
   "cell_type": "markdown",
   "source": [
    "## Question 21 is the last question and it is open-ended.\n",
    "### This question is worth 3 points."
   ],
   "metadata": {
    "id": "k4dNtbaR8Nbn"
   }
  },
  {
   "cell_type": "code",
   "source": [
    "# Q21\n",
    "\n",
    "# Links to the dataset https://datahub.io/core/global-temp\n",
    "\n",
    "# Use the link to the dataset and show that there is a positive correlation between the number of year and the average temperature.\n",
    "\n",
    "# You are free to make any assumptions as you see fit.\n",
    "\n",
    "data = \"Source,Year,Mean,GCAG,2016,0.9363GISTEMP,2016,0.99GCAG,2015,0.8998GISTEMP,2015,0.87GCAG,2014,0.7408GISTEMP,\" \\\n",
    "       \"2014,0.74GCAG,2013,0.6679GISTEMP,2013,0.65GCAG,2012,0.6240GISTEMP,2012,0.63GCAG,2011,0.5788GISTEMP,2011,0.\" \\\n",
    "       \"6GCAG,2010,0.7014GISTEMP,2010,0.71GCAG,2009,0.6367GISTEMP,2009,0.64GCAG,2008,0.5419GISTEMP,2008,0.54GCAG,2\" \\\n",
    "       \"007,0.6100GISTEMP,2007,0.66GCAG,2006,0.6125GISTEMP,2006,0.63GCAG,2005,0.6585GISTEMP,2005,0.69GCAG,2004,0.5\" \\\n",
    "       \"783GISTEMP,2004,0.55GCAG,2003,0.6134GISTEMP,2003,0.62GCAG,2002,0.6023GISTEMP,2002,0.63GCAG,2001,0.5473GIST\" \\\n",
    "       \"EMP,2001,0.55GCAG,2000,0.4262GISTEMP,2000,0.42GCAG,1999,0.4438GISTEMP,1999,0.42GCAG,1998,0.6344GISTEMP,199\" \\\n",
    "       \"8,0.64GCAG,1997,0.5187GISTEMP,1997,0.48GCAG,1996,0.3228GISTEMP,1996,0.35GCAG,1995,0.4577GISTEMP,1995,0.46G\" \\\n",
    "       \"CAG,1994,0.3409GISTEMP,1994,0.32GCAG,1993,0.2853GISTEMP,1993,0.24GCAG,1992,0.2571GISTEMP,1992,0.23GCAG,199\" \\\n",
    "       \"1,0.4055GISTEMP,1991,0.43GCAG,1990,0.4328GISTEMP,1990,0.44GCAG,1989,0.2970GISTEMP,1989,0.29GCAG,1988,0.375\" \\\n",
    "       \"7GISTEMP,1988,0.41GCAG,1987,0.3696GISTEMP,1987,0.33GCAG,1986,0.2296GISTEMP,1986,0.19GCAG,1985,0.1342GISTEM\" \\\n",
    "       \"P,1985,0.12GCAG,1984,0.1490GISTEMP,1984,0.15GCAG,1983,0.3411GISTEMP,1983,0.3GCAG,1982,0.1815GISTEMP,1982,0\" \\\n",
    "       \".13GCAG,1981,0.2999GISTEMP,1981,0.33GCAG,1980,0.2637GISTEMP,1980,0.27GCAG,1979,0.2273GISTEMP,1979,0.17GCAG\" \\\n",
    "       \",1978,0.1123GISTEMP,1978,0.07GCAG,1977,0.1978GISTEMP,1977,0.18GCAG,1976,-0.0792GISTEMP,1976,-0.11GCAG,1975\" \\\n",
    "       \",0.0034GISTEMP,1975,-0.02GCAG,1974,-0.0719GISTEMP,1974,-0.07GCAG,1973,0.1641GISTEMP,1973,0.15GCAG,1972,0.0\" \\\n",
    "       \"264GISTEMP,1972,0.01GCAG,1971,-0.0783GISTEMP,1971,-0.09GCAG,1970,0.0372GISTEMP,1970,0.02GCAG,1969,0.0929GI\" \\\n",
    "       \"STEMP,1969,0.07GCAG,1968,-0.0296GISTEMP,1968,-0.07GCAG,1967,-0.0131GISTEMP,1967,-0.02GCAG,1966,-0.0227GIST\" \\\n",
    "       \"EMP,1966,-0.05GCAG,1965,-0.0780GISTEMP,1965,-0.1GCAG,1964,-0.1495GISTEMP,1964,-0.2GCAG,1963,0.1068GISTEMP,\" \\\n",
    "       \"1963,0.06GCAG,1962,0.0888GISTEMP,1962,0.03GCAG,1961,0.0775GISTEMP,1961,0.05GCAG,1960,0.0204GISTEMP,1960,-0\" \\\n",
    "       \".02GCAG,1959,0.0596GISTEMP,1959,0.03GCAG,1958,0.1095GISTEMP,1958,0.07GCAG,1957,0.0488GISTEMP,1957,0.04GCAG\" \\\n",
    "       \",1956,-0.1990GISTEMP,1956,-0.2GCAG,1955,-0.1354GISTEMP,1955,-0.15GCAG,1954,-0.1165GISTEMP,1954,-0.13GCAG,1\" \\\n",
    "       \"953,0.0952GISTEMP,1953,0.08GCAG,1952,0.0248GISTEMP,1952,0.01GCAG,1951,-0.0132GISTEMP,1951,-0.07GCAG,1950,-\" \\\n",
    "       \"0.1616GISTEMP,1950,-0.18GCAG,1949,-0.0568GISTEMP,1949,-0.09GCAG,1948,-0.0487GISTEMP,1948,-0.09GCAG,1947,-0\" \\\n",
    "       \".0477GISTEMP,1947,-0.05GCAG,1946,-0.0040GISTEMP,1946,-0.04GCAG,1945,0.1710GISTEMP,1945,0.12GCAG,1944,0.292\" \\\n",
    "       \"8GISTEMP,1944,0.25GCAG,1943,0.1570GISTEMP,1943,0.13GCAG,1942,0.1538GISTEMP,1942,0.09GCAG,1941,0.1960GISTEM\" \\\n",
    "       \"P,1941,0.12GCAG,1940,0.0947GISTEMP,1940,0.08GCAG,1939,-0.0139GISTEMP,1939,-0.03GCAG,1938,-0.0288GISTEMP,19\" \\\n",
    "       \"38,-0.03GCAG,1937,-0.0157GISTEMP,1937,-0.03GCAG,1936,-0.1134GISTEMP,1936,-0.15GCAG,1935,-0.1392GISTEMP,193\" \\\n",
    "       \"5,-0.2GCAG,1934,-0.1015GISTEMP,1934,-0.14GCAG,1933,-0.2439GISTEMP,1933,-0.29GCAG,1932,-0.1168GISTEMP,1932,\" \\\n",
    "       \"-0.17GCAG,1931,-0.0686GISTEMP,1931,-0.09GCAG,1930,-0.1003GISTEMP,1930,-0.15GCAG,1929,-0.2985GISTEMP,1929,-\" \\\n",
    "       \"0.36GCAG,1928,-0.1774GISTEMP,1928,-0.21GCAG,1927,-0.1546GISTEMP,1927,-0.21GCAG,1926,-0.0667GISTEMP,1926,-0\" \\\n",
    "       \".1GCAG,1925,-0.1481GISTEMP,1925,-0.21GCAG,1924,-0.2486GISTEMP,1924,-0.28GCAG,1923,-0.2156GISTEMP,1923,-0.2\" \\\n",
    "       \"4GCAG,1922,-0.2304GISTEMP,1922,-0.28GCAG,1921,-0.1485GISTEMP,1921,-0.21GCAG,1920,-0.2105GISTEMP,1920,-0.27\" \\\n",
    "       \"GCAG,1919,-0.2055GISTEMP,1919,-0.22GCAG,1918,-0.2084GISTEMP,1918,-0.26GCAG,1917,-0.3146GISTEMP,1917,-0.4GC\" \\\n",
    "       \"AG,1916,-0.2930GISTEMP,1916,-0.34GCAG,1915,-0.0693GISTEMP,1915,-0.11GCAG,1914,-0.1395GISTEMP,1914,-0.16GCA\" \\\n",
    "       \"G,1913,-0.3162GISTEMP,1913,-0.34GCAG,1912,-0.3288GISTEMP,1912,-0.35GCAG,1911,-0.4332GISTEMP,1911,-0.44GCAG\" \\\n",
    "       \",1910,-0.3789GISTEMP,1910,-0.42GCAG,1909,-0.4261GISTEMP,1909,-0.47GCAG,1908,-0.4396GISTEMP,1908,-0.43GCAG,\" \\\n",
    "       \"1907,-0.3706GISTEMP,1907,-0.4GCAG,1906,-0.2174GISTEMP,1906,-0.23GCAG,1905,-0.2931GISTEMP,1905,-0.28GCAG,19\" \\\n",
    "       \"04,-0.4194GISTEMP,1904,-0.44GCAG,1903,-0.3369GISTEMP,1903,-0.35GCAG,1902,-0.2463GISTEMP,1902,-0.27GCAG,190\" \\\n",
    "       \"1,-0.1417GISTEMP,1901,-0.15GCAG,1900,-0.0679GISTEMP,1900,-0.09GCAG,1899,-0.1173GISTEMP,1899,-0.16GCAG,1898\" \\\n",
    "       \",-0.2546GISTEMP,1898,-0.28GCAG,1897,-0.1224GISTEMP,1897,-0.11GCAG,1896,-0.0974GISTEMP,1896,-0.15GCAG,1895,\" \\\n",
    "       \"-0.2290GISTEMP,1895,-0.21GCAG,1894,-0.2808GISTEMP,1894,-0.31GCAG,1893,-0.3212GISTEMP,1893,-0.3GCAG,1892,-\" \\\n",
    "       \".3062GISTEMP,1892,-0.27GCAG,1891,-0.2532GISTEMP,1891,-0.24GCAG,1890,-0.3220GISTEMP,1890,-0.37GCAG,1889,-0.\" \\\n",
    "       \"0982GISTEMP,1889,-0.12GCAG,1888,-0.1471GISTEMP,1888,-0.2GCAG,1887,-0.2489GISTEMP,1887,-0.33GCAG,1886,-0.20\" \\\n",
    "       \"03GISTEMP,1886,-0.31GCAG,1885,-0.2125GISTEMP,1885,-0.32GCAG,1884,-0.2009GISTEMP,1884,-0.28GCAG,1883,-0.142\" \\\n",
    "       \"4GISTEMP,1883,-0.21GCAG,1882,-0.0648GISTEMP,1882,-0.1GCAG,1881,-0.0628GISTEMP,1881,-0.12GCAG,1880,-0.1148G\" \\\n",
    "       \"ISTEMP,1880,-0.2\"\n",
    "\n",
    "data_list = data.split(\",\")\n",
    "\n",
    "count = 0\n",
    "year = []\n",
    "mean = []\n",
    "for item in data_list:\n",
    "    if count == 0:\n",
    "        count += 1\n",
    "        pass\n",
    "    elif count == 1:\n",
    "        count += 1\n",
    "        year.append(item)\n",
    "    else:\n",
    "        count = 0\n",
    "        mean.append(item)\n",
    "\n",
    "df = pd.DataFrame({'year': year, 'mean': mean})\n",
    "df = df.sort_values(by='year')\n",
    "pyplot.plot(df['year'], df['mean'], marker='o', linestyle='', markersize=5)\n",
    "pyplot.xlabel('year')\n",
    "pyplot.ylabel('Average Temperature')\n",
    "pyplot.title('Average Global Temperature Over Years')\n",
    "pyplot.show()\n"
   ],
   "metadata": {
    "id": "bCOD97OwTS-r"
   },
   "execution_count": null,
   "outputs": []
  }
 ],
 "metadata": {
  "colab": {
   "provenance": []
  },
  "kernelspec": {
   "display_name": "Python 3",
   "name": "python3"
  }
 },
 "nbformat": 4,
 "nbformat_minor": 0
}
