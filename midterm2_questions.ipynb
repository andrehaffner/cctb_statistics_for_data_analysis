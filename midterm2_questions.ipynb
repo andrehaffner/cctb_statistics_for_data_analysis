{
  "cells": [
    {
      "cell_type": "markdown",
      "source": [
        "How to complete midterm 2?\n",
        "\n",
        "> Follow the instruction of this notebook. At certain point, you will be asked to perform certain tasks and answer questions based on the results you obtained. \n",
        "\n",
        "> Go to Midterm 2 on canvas and complete the corresponding questions.\n",
        "\n",
        "**For numerical value questions. Use 0.01 precisions. This is very important. For example, if the result is 9.827, then the answer you should put on canvas is 9.83**"
      ],
      "metadata": {
        "id": "B7UVxazoQAt6"
      }
    },
    {
      "cell_type": "markdown",
      "source": [
        "## Question 1 to 5 are based on two sample t-test"
      ],
      "metadata": {
        "id": "g7h_blscQnot"
      }
    },
    {
      "cell_type": "code",
      "source": [
        "import numpy as np\n",
        "from scipy import stats\n",
        "\n",
        "# Define the two samples\n",
        "sample1 = np.array([2, 3, 5, 4, 6, 2, 4])\n",
        "sample2 = np.array([1, 4, 3, 5, 2, 6, 4])\n",
        "\n",
        "# Calculate the t-statistic and p-value using the two-sample t-test\n",
        "# your code goes here"
      ],
      "metadata": {
        "id": "2vSCVJIbQm5d"
      },
      "execution_count": 1,
      "outputs": []
    },
    {
      "cell_type": "code",
      "source": [
        "# Q1\n",
        "# What is the difference between the means of sample1 and sample2?"
      ],
      "metadata": {
        "id": "NXM6JgytTbiL"
      },
      "execution_count": 2,
      "outputs": []
    },
    {
      "cell_type": "code",
      "source": [
        "# Q2\n",
        "# Is there a significant difference between the means of sample1 and sample2 \n",
        "# at the 5% level of significance?"
      ],
      "metadata": {
        "id": "WudQPEfvT8CI"
      },
      "execution_count": 3,
      "outputs": []
    },
    {
      "cell_type": "code",
      "source": [
        "# Q3\n",
        "# Are the variances of sample1 and sample2 equal?\n",
        "# hint: Google the Levene's test."
      ],
      "metadata": {
        "id": "NbdMlKjOUgm_"
      },
      "execution_count": 4,
      "outputs": []
    },
    {
      "cell_type": "code",
      "source": [
        "# Q4\n",
        "# What's the p-value?"
      ],
      "metadata": {
        "id": "hmt_KPleVErF"
      },
      "execution_count": 5,
      "outputs": []
    },
    {
      "cell_type": "code",
      "source": [
        "# Q5\n",
        "# Suppose each sample replicate itself once, \n",
        "# e.g. sample1 becomese 2 times longer with each element repeated.\n",
        "# Is the new p-value larger or smaller?\n",
        "# hint: you can calculate it if you are not confident in pure reasoning."
      ],
      "metadata": {
        "id": "B3YS7P4_Vyg1"
      },
      "execution_count": 6,
      "outputs": []
    },
    {
      "cell_type": "markdown",
      "source": [
        "## Question 6 to 10 are centered around a one-way ANOVA test"
      ],
      "metadata": {
        "id": "1Hkmzs-swwPt"
      }
    },
    {
      "cell_type": "code",
      "source": [
        "import numpy as np\n",
        "from scipy import stats\n",
        "\n",
        "# Define the three samples\n",
        "sample1 = np.array([2, 3, 5, 4, 6, 2, 4])\n",
        "sample2 = np.array([1, 4, 3, 5, 2, 6, 4])\n",
        "sample3 = np.array([4, 3, 2, 1, 6, 5, 4])\n",
        "\n",
        "# Combine the samples into one array\n",
        "\n",
        "# Calculate the F-statistic and p-value using one-way ANOVA\n",
        "# Your code goes here"
      ],
      "metadata": {
        "id": "oHm11mJ9x4TS"
      },
      "execution_count": 11,
      "outputs": []
    },
    {
      "cell_type": "code",
      "source": [
        "# Q6\n",
        "# What is the mean of sample1?"
      ],
      "metadata": {
        "id": "4XEhxRwKw2Gl"
      },
      "execution_count": 34,
      "outputs": []
    },
    {
      "cell_type": "code",
      "source": [
        "# Q7\n",
        "# What's the inner product of sample1 and sample2"
      ],
      "metadata": {
        "id": "P0FHdcTjzHHP"
      },
      "execution_count": 35,
      "outputs": []
    },
    {
      "cell_type": "code",
      "source": [
        "# Q8\n",
        "# What's the p-value for the on-way ANOVA test?"
      ],
      "metadata": {
        "id": "XO0mAkkBzV7s"
      },
      "execution_count": 36,
      "outputs": []
    },
    {
      "cell_type": "code",
      "source": [
        "# Q9\n",
        "# What's the SSB?"
      ],
      "metadata": {
        "id": "EphtOqLozhJX"
      },
      "execution_count": 38,
      "outputs": []
    },
    {
      "cell_type": "code",
      "source": [
        "# Q10\n",
        "# What's the SST?"
      ],
      "metadata": {
        "id": "uu2jxmNVz4rC"
      },
      "execution_count": 37,
      "outputs": []
    },
    {
      "cell_type": "markdown",
      "source": [
        "## Question 11 to 20 are general Python programming about numpy and scipy.stats"
      ],
      "metadata": {
        "id": "0lGnB2Yr5rsM"
      }
    },
    {
      "cell_type": "code",
      "source": [
        "# Q11\n",
        "# Given a NumPy array x = [2, 4, 6, 8, 10, 12, 14, 16], \n",
        "# what is the 90th percentile of x using the percentile() function?"
      ],
      "metadata": {
        "colab": {
          "base_uri": "https://localhost:8080/"
        },
        "id": "uBEucCR9NbC3",
        "outputId": "b9207a42-6ea4-488f-c5d1-c8fedee62d92"
      },
      "execution_count": 39,
      "outputs": [
        {
          "output_type": "stream",
          "name": "stdout",
          "text": [
            "14.6\n"
          ]
        }
      ]
    },
    {
      "cell_type": "code",
      "source": [
        "# Q12\n",
        "# Given a NumPy array y = [1, 2, 3, 4, 5], \n",
        "# what is the skewness of y "
      ],
      "metadata": {
        "id": "QQDA_ny1NwuX"
      },
      "execution_count": 58,
      "outputs": []
    },
    {
      "cell_type": "code",
      "source": [
        "# Q13\n",
        "# Given a NumPy array z = [10, 20, 30, 40, 50], \n",
        "# what is the kurtosis of z"
      ],
      "metadata": {
        "id": "VzlKbCnJOJrr"
      },
      "execution_count": null,
      "outputs": []
    },
    {
      "cell_type": "code",
      "source": [
        "# Q14\n",
        "# Write a function that calculates the correlation coefficient of two arrays,\n",
        "# without using NumPy library.\n"
      ],
      "metadata": {
        "id": "KF0PalHTObAn"
      },
      "execution_count": null,
      "outputs": []
    },
    {
      "cell_type": "code",
      "source": [
        "# Q15\n",
        "# Given two NumPy arrays b = [1, 2, 3, 4, 5] and c = [2, 4, 6, 8, 10], \n",
        "# what is the p-value for the null hypothesis that \n",
        "# the correlation coefficient between b and c is zero"
      ],
      "metadata": {
        "id": "lnd2FCuMO56o"
      },
      "execution_count": null,
      "outputs": []
    },
    {
      "cell_type": "code",
      "source": [
        "# Q16\n",
        "# Generate 1000 random numbers from a chi-squared distribution with 5 degrees of freedom.\n",
        "# The sum is close to which of the following values?"
      ],
      "metadata": {
        "id": "tqxRybHbPT7B"
      },
      "execution_count": null,
      "outputs": []
    },
    {
      "cell_type": "code",
      "source": [
        "# Q17\n",
        "# Write a Python function that determine whether a year is a leap year.\n",
        "# Is the Year 2200 a leap year?"
      ],
      "metadata": {
        "id": "3wLj5oxPQk45"
      },
      "execution_count": null,
      "outputs": []
    },
    {
      "cell_type": "code",
      "source": [
        "# Q18\n",
        "# Write a Python function to inverse the key-value relationship.\n",
        "# i.e. the keys become the values and the values become the corresponding keys.\n"
      ],
      "metadata": {
        "id": "X-IBxg0iQ3Jy"
      },
      "execution_count": null,
      "outputs": []
    },
    {
      "cell_type": "code",
      "source": [
        "# Q19\n",
        "# Given a list of strings my_list = [\"apple\", \"banana\", \"cherry\", \"apple\", \"banana\", \"apple\"], \n",
        "# write a Python program that counts the number of occurrences of each string in the list \n",
        "# and stores the results in a dictionary."
      ],
      "metadata": {
        "id": "NdTi5U0uRfNi"
      },
      "execution_count": null,
      "outputs": []
    },
    {
      "cell_type": "code",
      "source": [
        "# Q20\n",
        "# This question is 3 points\n",
        "# Write a Python program that flattens a list of lists with infinite depth. \n",
        "# For example, given the list my_list = [1, 2, [3, 4, [5, 6, [7, 8]]], 9, [10]], \n",
        "# the program should output the flattened list [1, 2, 3, 4, 5, 6, 7, 8, 9, 10]."
      ],
      "metadata": {
        "id": "rkteqjcwSpKr"
      },
      "execution_count": null,
      "outputs": []
    },
    {
      "cell_type": "markdown",
      "source": [
        "## Question 21 is the last question and it is open-ended.\n",
        "### This question is worth 3 points."
      ],
      "metadata": {
        "id": "k4dNtbaR8Nbn"
      }
    },
    {
      "cell_type": "code",
      "source": [
        "# Q21\n",
        "\n",
        "# Links to the dataset https://datahub.io/core/global-temp\n",
        "\n",
        "# Use the link to the dataset and show that there is a positive correlation between the number of year and the average temperature.\n",
        "\n",
        "# You are free to make any assumptions as you see fit."
      ],
      "metadata": {
        "id": "bCOD97OwTS-r"
      },
      "execution_count": null,
      "outputs": []
    }
  ],
  "metadata": {
    "colab": {
      "provenance": []
    },
    "kernelspec": {
      "display_name": "Python 3",
      "name": "python3"
    }
  },
  "nbformat": 4,
  "nbformat_minor": 0
}