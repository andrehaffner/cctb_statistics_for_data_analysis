{
 "cells": [
  {
   "cell_type": "markdown",
   "source": [
    "How to complete Final Exam?\n",
    "\n",
    "> Follow the instruction of this on canvas. \n",
    "\n",
    "> Upload this notebook to Canvas when you complete. Make sure that it can run directly without error. \n",
    "\n",
    "> You are free to use whichever resources you find online or use ChatGPT, etc. \n",
    "\n",
    "> **Unless absolutely essential, no clarification will be given. You are free and encouraged to make your own assumptions, define your own question scopes and build answers on top of it.** \n",
    "\n",
    "> **Ask for extensions before May 12th, 11:59 PM if you need. Don't hesitate.**"
   ],
   "metadata": {
    "id": "B7UVxazoQAt6"
   }
  },
  {
   "cell_type": "markdown",
   "source": [
    "## Questions 1 to 10 \n",
    "They don't require coding. Answer them on Canvas directly."
   ],
   "metadata": {
    "id": "g7h_blscQnot"
   }
  },
  {
   "cell_type": "markdown",
   "source": [
    "## Questions 11 to 15 (10 points) \n",
    "### Fix the following code.\n",
    "\n",
    "There are several errors in this code snippet that trys to perform a hypothesis testing. There are conceptual ones in the comments as well as coding errors.\n",
    "\n",
    "Fix them and use a markdown list to explain them. There maybe more than 5 but 5 will be enough for full credit. 2 points for each error.\n",
    "\n",
    "```python\n",
    "import numpy as np\n",
    "from scipy import stats\n",
    "\n",
    "# Generate a sample dataset\n",
    "data = np.random.normal(loc=0, scale=1, size=100)\n",
    "\n",
    "# Define null hypothesis and alternative hypothesis\n",
    "null_hypothesis = \"The mean is not equal to 0\"\n",
    "alternative_hypothesis = \"The mean is equal to 0\"\n",
    "\n",
    "# Perform one-sample t-test\n",
    "p_value, t_statistic = stats.ttest_1samp(data, 0)\n",
    "alpha = 0.05\n",
    "\n",
    "# degrees_freedom = len(data)\n",
    "# The p-value is the probability that the null hypothesis is true\n",
    "\n",
    "# Check if the null hypothesis is rejected or not\n",
    "if p_val > alpha:\n",
    "    print(\"Fail to reject the null hypothesis\")\n",
    "\n",
    "else:\n",
    "    print(\"Reject the null hypothesis\")\n",
    "\n",
    "```\n",
    "\n",
    "Hint: Please copy the code to a new notebook. It may be easier.\n"
   ],
   "metadata": {
    "id": "kyF_85Tj6M2h"
   }
  },
  {
   "cell_type": "markdown",
   "source": [
    "## Errors \n",
    "1. p_val is not the name of the variable\n",
    "2. degrees_freedom declaration is commented\n",
    "3. the p_value is not the probability that the null hypothesis is true\n",
    "4. if p_value > alpha we shouldn't reject the null hypothesis\n",
    "5. if p_value < alpha we should reject the null hypothesis"
   ],
   "metadata": {
    "id": "MMEn6S48Gt-D"
   }
  },
  {
   "cell_type": "markdown",
   "source": [
    "## Question 16 to 20 are based on the iris dataset. (10 points)\n",
    "\n",
    "Read the information on the [dataset page](https://archive.ics.uci.edu/ml/datasets/iris) **carefully** and answer the following questions.\n",
    "\n",
    "This is a hard question so please try your best."
   ],
   "metadata": {
    "id": "RlH6-rb0zfn9"
   }
  },
  {
   "cell_type": "code",
   "source": [
    "# Q16 (1 points)\n",
    "# What is the Pearson correlation coefficient between sepal length and sepal width?\n",
    "pearson_correlation_coefficient: 0.875633706307696\n"
   ],
   "metadata": {
    "id": "45qnGzOC1XpT"
   },
   "execution_count": 4,
   "outputs": []
  },
  {
   "cell_type": "code",
   "source": [
    "# Q17 (1 points)\n",
    "# Is there a significant difference in the mean petal length between two or more species?\n",
    "# Perform an appropriate statistical test to determine the significance.\n",
    "\n",
    "import scipy.stats as stats\n",
    "\n",
    "specie1 = [1.2, 1.4, 1.6, 1.8, 1.5]\n",
    "specie2 = [1.0, 1.3, 1.1, 1.2, 1.4]\n",
    "specie3 = [1.6, 1.9, 1.7, 1.8, 1.5]\n",
    "\n",
    "f, p = stats.f_oneway(specie1, specie2, specie3)\n",
    "if p < 0.05:\n",
    "    print(\"There is a significant difference in the mean petal length between the species\")\n",
    "else:\n",
    "    print(\"There is not a significant difference in the mean petal length between the species\")\n"
   ],
   "metadata": {
    "id": "CMYKLodL1cxR"
   },
   "execution_count": null,
   "outputs": []
  },
  {
   "cell_type": "code",
   "source": [
    "# Q18 (2 points)\n",
    "# Which specie is 100% separable from another two with a hyper-plane in 2-D space? \n",
    "# 1. Create a visualization to show that.\n",
    "# 2. Which two dimensions are you using to seprate them?\n",
    "# 3. What's the name of the `lone` specie? "
   ],
   "metadata": {
    "id": "edu6EWnS1yzZ"
   },
   "execution_count": null,
   "outputs": []
  },
  {
   "cell_type": "code",
   "source": [
    "# Q19 (3 points)\n",
    "# Suppose I am using integer 1, 2, 3 as representations of species so every variable becomes numerical.\n",
    "# Then we can use simple linear regression to predict the species using any one of the 4 independent variables.\n",
    "\n",
    "# 1. Does it matter which integer is assigned to which specie? Why?\n",
    "\"\"\"As long as the assignment is consistent during all the analysis, no.\"\"\"\n",
    "\n",
    "# 2. Using only one independent variable, which one performs the best to predict the specie? Use SSE to justify your choice.\n",
    "\n",
    "\n",
    "# Hint: Your answer to the second question will depend on your answer to the first one."
   ],
   "metadata": {
    "id": "vpCDoW6L3SIi"
   },
   "execution_count": null,
   "outputs": []
  },
  {
   "cell_type": "code",
   "source": [
    "# Q20 (3 points)\n",
    "# Continuing Q4, suppose you want to use multiple linear regression to predict the species using ONLY 3 independent variables.\n",
    "# Removing which independent variable will impact the model performance the least? Justify your choice.\n",
    "# Hint: Perhaps some independent variable can be linearly represented by others `pretty` well."
   ],
   "metadata": {
    "id": "2vSCVJIbQm5d"
   },
   "execution_count": null,
   "outputs": []
  }
 ],
 "metadata": {
  "colab": {
   "provenance": []
  },
  "kernelspec": {
   "display_name": "Python 3",
   "name": "python3"
  }
 },
 "nbformat": 4,
 "nbformat_minor": 0
}
